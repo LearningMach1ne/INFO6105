{
 "cells": [
  {
   "cell_type": "code",
   "execution_count": 1,
   "id": "c27dcb8b-136c-4313-8412-f9310df33871",
   "metadata": {},
   "outputs": [],
   "source": [
    "import numpy as np\n",
    "from scipy.optimize import minimize\n",
    "import matplotlib.pyplot as plt\n",
    "import pandas as pd\n",
    "import seaborn as sns\n",
    "from pandas_datareader import DataReader\n",
    "from datetime import datetime\n",
    "import scipy.stats as ss\n",
    "import yfinance as yf\n",
    "\n",
    "start_date = datetime(2020,1,1)\n",
    "end_date = datetime(2024,3,31)"
   ]
  },
  {
   "cell_type": "code",
   "execution_count": 4,
   "id": "3a1c4839-d8de-4734-8623-06be97034a93",
   "metadata": {},
   "outputs": [
    {
     "name": "stderr",
     "output_type": "stream",
     "text": [
      "[*********************100%***********************]  1 of 1 completed\n"
     ]
    }
   ],
   "source": [
    "tesla = yf.download('TSLA',start_date ,end_date)"
   ]
  },
  {
   "cell_type": "code",
   "execution_count": 5,
   "id": "c73c1ee7-3657-417e-acdc-2ae3ccfd7de3",
   "metadata": {},
   "outputs": [
    {
     "name": "stdout",
     "output_type": "stream",
     "text": [
      "<class 'pandas.core.frame.DataFrame'>\n",
      "DatetimeIndex: 61 entries, 2024-01-02 to 2024-03-28\n",
      "Data columns (total 6 columns):\n",
      " #   Column     Non-Null Count  Dtype  \n",
      "---  ------     --------------  -----  \n",
      " 0   Open       61 non-null     float64\n",
      " 1   High       61 non-null     float64\n",
      " 2   Low        61 non-null     float64\n",
      " 3   Close      61 non-null     float64\n",
      " 4   Adj Close  61 non-null     float64\n",
      " 5   Volume     61 non-null     int64  \n",
      "dtypes: float64(5), int64(1)\n",
      "memory usage: 3.3 KB\n"
     ]
    }
   ],
   "source": [
    "tesla.info()"
   ]
  },
  {
   "cell_type": "code",
   "execution_count": null,
   "id": "4a74cf67-fa93-4e71-9a52-cfd0fcf62699",
   "metadata": {},
   "outputs": [],
   "source": []
  }
 ],
 "metadata": {
  "kernelspec": {
   "display_name": "Python 3 (ipykernel)",
   "language": "python",
   "name": "python3"
  },
  "language_info": {
   "codemirror_mode": {
    "name": "ipython",
    "version": 3
   },
   "file_extension": ".py",
   "mimetype": "text/x-python",
   "name": "python",
   "nbconvert_exporter": "python",
   "pygments_lexer": "ipython3",
   "version": "3.12.2"
  }
 },
 "nbformat": 4,
 "nbformat_minor": 5
}
