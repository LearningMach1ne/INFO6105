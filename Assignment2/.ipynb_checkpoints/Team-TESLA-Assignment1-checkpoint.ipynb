{
 "cells": [
  {
   "cell_type": "markdown",
   "id": "8654e049-0dcb-4df9-85a6-e68c69360b82",
   "metadata": {},
   "source": [
    "# Assignment 1 - Tesla"
   ]
  },
  {
   "cell_type": "code",
   "execution_count": 14,
   "id": "c27dcb8b-136c-4313-8412-f9310df33871",
   "metadata": {},
   "outputs": [],
   "source": [
    "import numpy as np\n",
    "from scipy.optimize import minimize\n",
    "import matplotlib.pyplot as plt\n",
    "import pandas as pd\n",
    "import seaborn as sns\n",
    "from pandas_datareader import DataReader\n",
    "from datetime import datetime\n",
    "import scipy.stats as ss\n",
    "import yfinance as yf\n",
    "\n",
    "start_date = datetime(2020,1,31)\n",
    "end_date = datetime(2024,8,31)"
   ]
  },
  {
   "cell_type": "code",
   "execution_count": 15,
   "id": "3a1c4839-d8de-4734-8623-06be97034a93",
   "metadata": {},
   "outputs": [
    {
     "name": "stderr",
     "output_type": "stream",
     "text": [
      "[*********************100%***********************]  1 of 1 completed\n"
     ]
    }
   ],
   "source": [
    "tesla = yf.download('TSLA',start= start_date, end = end_date)"
   ]
  },
  {
   "cell_type": "code",
   "execution_count": 16,
   "id": "c73c1ee7-3657-417e-acdc-2ae3ccfd7de3",
   "metadata": {},
   "outputs": [
    {
     "name": "stdout",
     "output_type": "stream",
     "text": [
      "<class 'pandas.core.frame.DataFrame'>\n",
      "DatetimeIndex: 1154 entries, 2020-01-31 to 2024-08-30\n",
      "Data columns (total 6 columns):\n",
      " #   Column     Non-Null Count  Dtype  \n",
      "---  ------     --------------  -----  \n",
      " 0   Open       1154 non-null   float64\n",
      " 1   High       1154 non-null   float64\n",
      " 2   Low        1154 non-null   float64\n",
      " 3   Close      1154 non-null   float64\n",
      " 4   Adj Close  1154 non-null   float64\n",
      " 5   Volume     1154 non-null   int64  \n",
      "dtypes: float64(5), int64(1)\n",
      "memory usage: 63.1 KB\n"
     ]
    }
   ],
   "source": [
    "tesla.info()"
   ]
  },
  {
   "cell_type": "code",
   "execution_count": 17,
   "id": "4a74cf67-fa93-4e71-9a52-cfd0fcf62699",
   "metadata": {},
   "outputs": [
    {
     "name": "stdout",
     "output_type": "stream",
     "text": [
      "                 Open       High        Low      Close  Adj Close     Volume\n",
      "Date                                                                        \n",
      "2020-01-31  42.666668  43.533333  42.167999  43.371334  43.371334  235789500\n",
      "2020-02-03  44.912666  52.409332  44.901333  52.000000  52.000000  705975000\n",
      "2020-02-04  58.863998  64.599335  55.591999  59.137333  59.137333  914082000\n",
      "2020-02-05  54.883999  56.398666  46.940666  48.980000  48.980000  726357000\n",
      "2020-02-06  46.661331  53.055332  45.799999  49.930668  49.930668  598212000\n"
     ]
    }
   ],
   "source": [
    "print(tesla.head())"
   ]
  }
 ],
 "metadata": {
  "kernelspec": {
   "display_name": "Python 3 (ipykernel)",
   "language": "python",
   "name": "python3"
  },
  "language_info": {
   "codemirror_mode": {
    "name": "ipython",
    "version": 3
   },
   "file_extension": ".py",
   "mimetype": "text/x-python",
   "name": "python",
   "nbconvert_exporter": "python",
   "pygments_lexer": "ipython3",
   "version": "3.12.2"
  }
 },
 "nbformat": 4,
 "nbformat_minor": 5
}
