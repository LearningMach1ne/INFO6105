{
 "cells": [
  {
   "cell_type": "code",
   "execution_count": 6,
   "id": "24cdb69d",
   "metadata": {},
   "outputs": [
    {
     "name": "stdout",
     "output_type": "stream",
     "text": [
      "Found existing installation: numpy 2.0.2\n",
      "Uninstalling numpy-2.0.2:\n",
      "  Successfully uninstalled numpy-2.0.2\n",
      "Note: you may need to restart the kernel to use updated packages.\n"
     ]
    }
   ],
   "source": [
    "pip uninstall -y numpy"
   ]
  },
  {
   "cell_type": "code",
   "execution_count": 7,
   "id": "7c2e6a7a",
   "metadata": {},
   "outputs": [
    {
     "name": "stdout",
     "output_type": "stream",
     "text": [
      "Files removed: 296\n",
      "Note: you may need to restart the kernel to use updated packages.\n"
     ]
    }
   ],
   "source": [
    "pip cache purge"
   ]
  },
  {
   "cell_type": "code",
   "execution_count": 2,
   "id": "fe199360",
   "metadata": {},
   "outputs": [
    {
     "name": "stdout",
     "output_type": "stream",
     "text": [
      "Collecting numpy\n",
      "  Downloading numpy-2.0.2-cp39-cp39-macosx_10_9_x86_64.whl (21.2 MB)\n",
      "\u001b[K     |████████████████████████████████| 21.2 MB 670 kB/s eta 0:00:01    |███▎                            | 2.2 MB 3.8 MB/s eta 0:00:05\n",
      "\u001b[?25hInstalling collected packages: numpy\n",
      "Successfully installed numpy-2.0.2\n",
      "\u001b[33mWARNING: You are using pip version 21.2.3; however, version 24.3.1 is available.\n",
      "You should consider upgrading via the '/Library/Frameworks/Python.framework/Versions/3.9/bin/python3.9 -m pip install --upgrade pip' command.\u001b[0m\n",
      "Note: you may need to restart the kernel to use updated packages.\n"
     ]
    }
   ],
   "source": [
    "pip install numpy\n"
   ]
  },
  {
   "cell_type": "code",
   "execution_count": null,
   "id": "14ff6f2b",
   "metadata": {
    "scrolled": false
   },
   "outputs": [],
   "source": [
    "#import the library and tools\n",
    "import numpy as np\n",
    "from scipy.optimize import minimize\n",
    "import matplotlib.pyplot as plt\n",
    "import pandas as pd\n",
    "import seaborn as sns\n",
    "from pandas_datareader import DataReader\n",
    "from datetime import datetime\n",
    "import scipy.stats as ss\n",
    "import yfinance as yf\n",
    "\n",
    "start_date = datetime(2020,1,31)\n",
    "end_date = datetime(2024,8,31)"
   ]
  },
  {
   "cell_type": "code",
   "execution_count": 2,
   "id": "3212196d",
   "metadata": {},
   "outputs": [
    {
     "ename": "NameError",
     "evalue": "name 'yf' is not defined",
     "output_type": "error",
     "traceback": [
      "\u001b[0;31m---------------------------------------------------------------------------\u001b[0m",
      "\u001b[0;31mNameError\u001b[0m                                 Traceback (most recent call last)",
      "\u001b[0;32m/var/folders/b3/c5tj6zhd7bq_b_2jkwk4flc00000gn/T/ipykernel_92289/4009513999.py\u001b[0m in \u001b[0;36m<module>\u001b[0;34m\u001b[0m\n\u001b[1;32m      1\u001b[0m \u001b[0;31m#download the datasets\u001b[0m\u001b[0;34m\u001b[0m\u001b[0;34m\u001b[0m\u001b[0m\n\u001b[0;32m----> 2\u001b[0;31m \u001b[0mstock\u001b[0m \u001b[0;34m=\u001b[0m \u001b[0myf\u001b[0m\u001b[0;34m.\u001b[0m\u001b[0mdownload\u001b[0m\u001b[0;34m(\u001b[0m\u001b[0;34m'TSLA'\u001b[0m\u001b[0;34m,\u001b[0m\u001b[0mstart\u001b[0m\u001b[0;34m=\u001b[0m \u001b[0mstart_date\u001b[0m\u001b[0;34m,\u001b[0m \u001b[0mend\u001b[0m \u001b[0;34m=\u001b[0m \u001b[0mend_date\u001b[0m\u001b[0;34m)\u001b[0m\u001b[0;34m\u001b[0m\u001b[0;34m\u001b[0m\u001b[0m\n\u001b[0m",
      "\u001b[0;31mNameError\u001b[0m: name 'yf' is not defined"
     ]
    }
   ],
   "source": [
    "#download the datasets\n",
    "stock = yf.download('TSLA',start= start_date, end = end_date)"
   ]
  },
  {
   "cell_type": "code",
   "execution_count": null,
   "id": "c5b53227",
   "metadata": {},
   "outputs": [],
   "source": [
    "#Stock Analysis and Competitor Summary(Assignment1)\n",
    "stock.info()\n"
   ]
  },
  {
   "cell_type": "code",
   "execution_count": null,
   "id": "a9a94dbc",
   "metadata": {},
   "outputs": [],
   "source": []
  },
  {
   "cell_type": "code",
   "execution_count": null,
   "id": "9be38a55",
   "metadata": {},
   "outputs": [],
   "source": [
    "#Feature Database Creation\n"
   ]
  },
  {
   "cell_type": "code",
   "execution_count": null,
   "id": "d6e755f3",
   "metadata": {},
   "outputs": [],
   "source": [
    "#Feature Selection\n"
   ]
  },
  {
   "cell_type": "code",
   "execution_count": null,
   "id": "8080d82b",
   "metadata": {},
   "outputs": [],
   "source": [
    "#Model Training and Performance Comparison\n"
   ]
  },
  {
   "cell_type": "code",
   "execution_count": null,
   "id": "fd60570d",
   "metadata": {},
   "outputs": [],
   "source": [
    "#Benchmark Study(Assignment2 Garch & Kalman)\n"
   ]
  },
  {
   "cell_type": "markdown",
   "id": "3764b30b",
   "metadata": {},
   "source": [
    "## Garch Model"
   ]
  },
  {
   "cell_type": "markdown",
   "id": "dfdb6607",
   "metadata": {},
   "source": [
    "## Kalman Filter"
   ]
  },
  {
   "cell_type": "code",
   "execution_count": null,
   "id": "96e5800b",
   "metadata": {},
   "outputs": [],
   "source": [
    "# Trading Rules and Signal Generation\n"
   ]
  }
 ],
 "metadata": {
  "kernelspec": {
   "display_name": "Python 3 (ipykernel)",
   "language": "python",
   "name": "python3"
  },
  "language_info": {
   "codemirror_mode": {
    "name": "ipython",
    "version": 3
   },
   "file_extension": ".py",
   "mimetype": "text/x-python",
   "name": "python",
   "nbconvert_exporter": "python",
   "pygments_lexer": "ipython3",
   "version": "3.9.7"
  }
 },
 "nbformat": 4,
 "nbformat_minor": 5
}
