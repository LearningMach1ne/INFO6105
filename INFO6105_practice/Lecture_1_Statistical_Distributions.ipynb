{
 "cells": [
  {
   "cell_type": "markdown",
   "id": "e0de1747-942f-4843-8e22-8e02166e8fb2",
   "metadata": {},
   "source": [
    "## Lecture 1 Statistical Distributions\n",
    "## Part 1: moments"
   ]
  },
  {
   "cell_type": "code",
   "execution_count": 2,
   "id": "dd3451e3-40cd-4e7d-a302-6aedc148d68c",
   "metadata": {},
   "outputs": [],
   "source": [
    "import numpy as np\n",
    "from scipy.optimize import minimize\n",
    "import matplotlib.pyplot as plt\n",
    "import pandas as pd\n",
    "import seaborn as sns\n",
    "from pandas_datareader import DataReader\n",
    "from datetime import datetime\n",
    "import scipy.stats as ss\n",
    "import yfinance as yf\n",
    "\n",
    "start_date = datetime(2024,1,1)\n",
    "end_date = datetime(2024,3,31)"
   ]
  },
  {
   "cell_type": "code",
   "execution_count": 3,
   "id": "f4ad970d-020f-4047-a520-f45ec69e61a0",
   "metadata": {},
   "outputs": [],
   "source": [
    "## Understanding yfinance and its properties"
   ]
  },
  {
   "cell_type": "code",
   "execution_count": 37,
   "id": "d131f2f1-2f5a-49f7-86e7-88ba0ba94f2a",
   "metadata": {},
   "outputs": [
    {
     "name": "stderr",
     "output_type": "stream",
     "text": [
      "[*********************100%***********************]  1 of 1 completed"
     ]
    },
    {
     "name": "stdout",
     "output_type": "stream",
     "text": [
      "sample mean 403.00769743372183\n",
      "sample standard deviation 15.156843724662025\n",
      "sample skewness:  -0.8566557944820051\n",
      "sample kurtosis:  3.264025339974553\n",
      "                  Open        High         Low       Close   Adj Close  \\\n",
      "Date                                                                     \n",
      "2024-01-02  373.859985  375.899994  366.769989  370.869995  368.854095   \n",
      "2024-01-03  369.010010  373.260010  368.510010  370.600006  368.585571   \n",
      "2024-01-04  370.670013  373.100006  367.170013  367.940002  365.940002   \n",
      "2024-01-05  368.970001  372.059998  366.500000  367.750000  365.751068   \n",
      "2024-01-08  369.299988  375.200012  369.010010  374.690002  372.653351   \n",
      "\n",
      "              Volume  \n",
      "Date                  \n",
      "2024-01-02  25258600  \n",
      "2024-01-03  23083500  \n",
      "2024-01-04  20901500  \n",
      "2024-01-05  20987000  \n",
      "2024-01-08  23134000  \n",
      "count     61.000000\n",
      "mean     403.007697\n",
      "std       15.282629\n",
      "min      365.751068\n",
      "25%      396.731720\n",
      "50%      405.097839\n",
      "75%      413.427795\n",
      "max      427.825806\n",
      "Name: Adj Close, dtype: float64\n"
     ]
    },
    {
     "name": "stderr",
     "output_type": "stream",
     "text": [
      "\n"
     ]
    }
   ],
   "source": [
    "# Preliminary Analysis 1\n",
    "msft = yf.download('MSFT',start_date ,end_date)\n",
    "\n",
    "# msft.info()\n",
    "x = msft['Adj Close'].values\n",
    "print('sample mean',np.mean(x))\n",
    "print('sample standard deviation',np.std(x))\n",
    "print('sample skewness: ',ss.skew(x, axis=0, bias=True))\n",
    "print('sample kurtosis: ',ss.kurtosis(x, axis=0, bias=True) + 3)\n",
    "print(msft.head())\n",
    "print(msft['Adj Close'].describe()) # summary statistics"
   ]
  },
  {
   "cell_type": "code",
   "execution_count": 38,
   "id": "cb4521d4-e6b3-4e64-8aad-7b9f872b183f",
   "metadata": {},
   "outputs": [
    {
     "name": "stderr",
     "output_type": "stream",
     "text": [
      "[*********************100%***********************]  1 of 1 completed"
     ]
    },
    {
     "name": "stdout",
     "output_type": "stream",
     "text": [
      "sample mean 195.3747546086546\n",
      "sample standard deviation 21.066061612845882\n",
      "sample skewness:  0.8067702773560321\n",
      "sample kurtosis:  2.8288042849500057\n",
      "                  Open        High         Low       Close   Adj Close  \\\n",
      "Date                                                                     \n",
      "2024-01-02  250.080002  251.250000  244.410004  248.419998  248.419998   \n",
      "2024-01-03  244.979996  245.679993  236.320007  238.449997  238.449997   \n",
      "2024-01-04  239.250000  242.699997  237.729996  237.929993  237.929993   \n",
      "2024-01-05  236.860001  240.119995  234.899994  237.490005  237.490005   \n",
      "2024-01-08  236.139999  241.250000  235.300003  240.449997  240.449997   \n",
      "\n",
      "               Volume  \n",
      "Date                   \n",
      "2024-01-02  104654200  \n",
      "2024-01-03  121082600  \n",
      "2024-01-04  102629300  \n",
      "2024-01-05   92379400  \n",
      "2024-01-08   85166600  \n",
      "count     61.000000\n",
      "mean     195.374755\n",
      "std       21.240887\n",
      "min      162.500000\n",
      "25%      178.649994\n",
      "50%      189.559998\n",
      "75%      207.830002\n",
      "max      248.419998\n",
      "Name: Adj Close, dtype: float64\n"
     ]
    },
    {
     "name": "stderr",
     "output_type": "stream",
     "text": [
      "\n"
     ]
    }
   ],
   "source": [
    "# Preliminary Analysis 2\n",
    "tesla = yf.download('TSLA',start_date ,end_date)\n",
    "\n",
    "# Discussion 3\n",
    "y = tesla['Adj Close'].values\n",
    "print('sample mean',np.mean(y))\n",
    "print('sample standard deviation',np.std(y))\n",
    "print('sample skewness: ',ss.skew(y, axis=0, bias=True))\n",
    "print('sample kurtosis: ',ss.kurtosis(y, axis=0, bias=True) + 3)\n",
    "print(tesla.head())\n",
    "print(tesla['Adj Close'].describe()) # summary statistics"
   ]
  },
  {
   "cell_type": "code",
   "execution_count": null,
   "id": "670b7066-cd81-42da-9964-2033f44cf027",
   "metadata": {},
   "outputs": [],
   "source": []
  }
 ],
 "metadata": {
  "kernelspec": {
   "display_name": "Python 3 (ipykernel)",
   "language": "python",
   "name": "python3"
  },
  "language_info": {
   "codemirror_mode": {
    "name": "ipython",
    "version": 3
   },
   "file_extension": ".py",
   "mimetype": "text/x-python",
   "name": "python",
   "nbconvert_exporter": "python",
   "pygments_lexer": "ipython3",
   "version": "3.12.2"
  }
 },
 "nbformat": 4,
 "nbformat_minor": 5
}
