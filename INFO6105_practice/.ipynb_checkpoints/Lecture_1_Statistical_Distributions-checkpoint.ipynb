{
 "cells": [
  {
   "cell_type": "markdown",
   "id": "e0de1747-942f-4843-8e22-8e02166e8fb2",
   "metadata": {},
   "source": [
    "## Lecture 1 Statistical Distributions\n",
    "## Part 1: moments"
   ]
  },
  {
   "cell_type": "code",
   "execution_count": 2,
   "id": "dd3451e3-40cd-4e7d-a302-6aedc148d68c",
   "metadata": {},
   "outputs": [],
   "source": [
    "import numpy as np\n",
    "from scipy.optimize import minimize\n",
    "import matplotlib.pyplot as plt\n",
    "import pandas as pd\n",
    "import seaborn as sns\n",
    "from pandas_datareader import DataReader\n",
    "from datetime import datetime\n",
    "import scipy.stats as ss\n",
    "import yfinance as yf\n",
    "\n",
    "start_date = datetime(2024,1,1)\n",
    "end_date = datetime(2024,3,31)"
   ]
  },
  {
   "cell_type": "code",
   "execution_count": 3,
   "id": "f4ad970d-020f-4047-a520-f45ec69e61a0",
   "metadata": {},
   "outputs": [],
   "source": [
    "## Understanding yfinance and its properties"
   ]
  },
  {
   "cell_type": "code",
   "execution_count": 13,
   "id": "d131f2f1-2f5a-49f7-86e7-88ba0ba94f2a",
   "metadata": {},
   "outputs": [
    {
     "name": "stderr",
     "output_type": "stream",
     "text": [
      "[*********************100%***********************]  1 of 1 completed"
     ]
    },
    {
     "name": "stdout",
     "output_type": "stream",
     "text": [
      "<class 'pandas.core.frame.DataFrame'>\n",
      "DatetimeIndex: 61 entries, 2024-01-02 to 2024-03-28\n",
      "Data columns (total 6 columns):\n",
      " #   Column     Non-Null Count  Dtype  \n",
      "---  ------     --------------  -----  \n",
      " 0   Open       61 non-null     float64\n",
      " 1   High       61 non-null     float64\n",
      " 2   Low        61 non-null     float64\n",
      " 3   Close      61 non-null     float64\n",
      " 4   Adj Close  61 non-null     float64\n",
      " 5   Volume     61 non-null     int64  \n",
      "dtypes: float64(5), int64(1)\n",
      "memory usage: 3.3 KB\n"
     ]
    },
    {
     "name": "stderr",
     "output_type": "stream",
     "text": [
      "\n"
     ]
    }
   ],
   "source": [
    "# Preliminary Analysis 1\n",
    "msft = yf.download('NVDA',start_date ,end_date)\n",
    "\n",
    "\n",
    "msft.info()"
   ]
  },
  {
   "cell_type": "code",
   "execution_count": null,
   "id": "cb4521d4-e6b3-4e64-8aad-7b9f872b183f",
   "metadata": {},
   "outputs": [],
   "source": []
  }
 ],
 "metadata": {
  "kernelspec": {
   "display_name": "Python 3 (ipykernel)",
   "language": "python",
   "name": "python3"
  },
  "language_info": {
   "codemirror_mode": {
    "name": "ipython",
    "version": 3
   },
   "file_extension": ".py",
   "mimetype": "text/x-python",
   "name": "python",
   "nbconvert_exporter": "python",
   "pygments_lexer": "ipython3",
   "version": "3.12.2"
  }
 },
 "nbformat": 4,
 "nbformat_minor": 5
}
